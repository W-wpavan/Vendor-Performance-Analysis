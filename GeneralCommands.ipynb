{
 "cells": [
  {
   "cell_type": "markdown",
   "id": "8f926d1e-d0bf-478a-b29b-88fac689b3dd",
   "metadata": {},
   "source": [
    "# General Commands"
   ]
  },
  {
   "cell_type": "markdown",
   "id": "a1c4e0c4-154e-4431-b93f-6deeaedd6d24",
   "metadata": {},
   "source": [
    "### Cell Type\tPurpose\n",
    "* __Code__\tRuns Python code (or code in other kernels).\n",
    "* __Markdown__\tFormats text using Markdown (headers, lists, links, etc.).\n",
    "* __Raw__\tLeaves content unchanged — not formatted or executed."
   ]
  },
  {
   "cell_type": "code",
   "execution_count": null,
   "id": "76301425-ec6d-4627-80e3-a526914e7fbf",
   "metadata": {},
   "outputs": [],
   "source": []
  },
  {
   "cell_type": "markdown",
   "id": "50458b04-0fb8-4c3f-b931-cdf51f48f9a0",
   "metadata": {},
   "source": [
    "**kernel** is the __engine__ that runs your code in a Jupyter Notebook."
   ]
  },
  {
   "cell_type": "code",
   "execution_count": null,
   "id": "3075d78f-d391-4f47-9908-dbec117fb8c1",
   "metadata": {},
   "outputs": [],
   "source": []
  },
  {
   "cell_type": "markdown",
   "id": "e351c4f8-b451-460b-969b-1d0efcbbf7a4",
   "metadata": {},
   "source": [
    "### Difference between Jupyter Notebook and JupyterLab"
   ]
  },
  {
   "cell_type": "markdown",
   "id": "c25909e8-69b2-4013-87ab-89231c6b6826",
   "metadata": {},
   "source": [
    "| Feature               | Jupyter Notebook     | JupyterLab             |\n",
    "|-----------------------|----------------------|-------------------------|\n",
    "| Interface             | Simple, single-page  | Tabbed, multi-window    |\n",
    "| File browser          | Basic or none        | Advanced (sidebar)      |\n",
    "| Extensions            | Limited              | Easy to add & rich      |\n",
    "| Performance           | Lightweight          | Heavier but powerful    |\n",
    "| Best for              | Learning, quick tasks| Projects, analysis, research|\n"
   ]
  },
  {
   "cell_type": "code",
   "execution_count": null,
   "id": "a92c6e56-1e8f-4496-9ec9-b47d132a31e7",
   "metadata": {},
   "outputs": [],
   "source": []
  },
  {
   "cell_type": "markdown",
   "id": "02f6ad62-1981-4861-8ea9-746aee0bcc7e",
   "metadata": {},
   "source": [
    "### Unique() vs nunique()\n",
    "| Method      | Returns                | Includes NaN? | Use when you want...                      |\n",
    "| ----------- | ---------------------- | ------------- | ----------------------------------------- |\n",
    "| `unique()`  | Array of unique values | Yes           | To **see** what values are present        |\n",
    "| `nunique()` | Count of unique values | No (default)  | To **count** how many unique values exist |\n"
   ]
  },
  {
   "cell_type": "code",
   "execution_count": null,
   "id": "042b09f7-b1ea-4606-ac3d-3a2d32596822",
   "metadata": {},
   "outputs": [],
   "source": []
  },
  {
   "cell_type": "code",
   "execution_count": null,
   "id": "18da007d-5a83-46a7-ad44-c0f6fdc36207",
   "metadata": {},
   "outputs": [],
   "source": [
    "import os\n",
    "import time\n",
    "import pandas as pd\n",
    "import numpy as np\n",
    "import sqlite3"
   ]
  },
  {
   "cell_type": "code",
   "execution_count": null,
   "id": "4d22de17-61a6-4d2c-9710-587a9ce20b6d",
   "metadata": {},
   "outputs": [],
   "source": [
    "# LIBRARIES IN SYSTEM\n",
    "# pip list\n",
    "import subprocess\n",
    "\n",
    "result = subprocess.run([\"pip\", \"list\"], capture_output=True, text=True)\n",
    "print(result.stdout)"
   ]
  },
  {
   "cell_type": "code",
   "execution_count": null,
   "id": "9c62127c-e0f8-4c89-9597-1e3e0bab5cdf",
   "metadata": {},
   "outputs": [],
   "source": [
    "pip install --upgrade pandas"
   ]
  },
  {
   "cell_type": "code",
   "execution_count": null,
   "id": "e7a0ef76-e5b1-4ccf-9258-4dff58c2794e",
   "metadata": {},
   "outputs": [],
   "source": [
    "# LIBRARY VERSIONS\n",
    "\n",
    "!pip show sqlalchemy"
   ]
  },
  {
   "cell_type": "code",
   "execution_count": null,
   "id": "1624d71e-0182-45b6-bfec-ebfc8eded73b",
   "metadata": {},
   "outputs": [],
   "source": []
  },
  {
   "cell_type": "code",
   "execution_count": null,
   "id": "ba5f6f96-8d47-4d30-9b3c-5e60811fad03",
   "metadata": {},
   "outputs": [],
   "source": [
    "# ITEMS IN LIBRARY\n",
    "for item in dir(os):\n",
    "    print(item)"
   ]
  },
  {
   "cell_type": "code",
   "execution_count": null,
   "id": "38abf791-9106-462d-a92b-c4264335a2d0",
   "metadata": {},
   "outputs": [],
   "source": [
    "print(dir(pd))"
   ]
  },
  {
   "cell_type": "code",
   "execution_count": null,
   "id": "fc24e359-6a50-49df-8d5a-69112b05f450",
   "metadata": {},
   "outputs": [],
   "source": [
    "dt = pd.Series(pd.date_range(\"2024-01-01\", periods=2, tz=\"Asia/Kolkata\"))\n",
    "print(dt)\n",
    "print(dt.dtype)  # datetime64[ns, Asia/Kolkata]\n"
   ]
  },
  {
   "cell_type": "code",
   "execution_count": null,
   "id": "813bc7e8-fb70-4596-824c-543b00924edf",
   "metadata": {},
   "outputs": [],
   "source": [
    "for i, item in enumerate(dir(os),start=1):\n",
    "    print(f\"{i}. {item}\")"
   ]
  },
  {
   "cell_type": "code",
   "execution_count": null,
   "id": "63a8b29c-b8fe-4b69-bab6-a832e9f3f06e",
   "metadata": {},
   "outputs": [],
   "source": [
    "os.getcwdb"
   ]
  },
  {
   "cell_type": "code",
   "execution_count": null,
   "id": "c931c645-43a0-4341-8436-0f360b632f45",
   "metadata": {},
   "outputs": [],
   "source": [
    "# FILES IN CWD\n",
    "files=os.listdir()\n",
    "files\n",
    "\n",
    "# Fils in path\n",
    "os.listdir(r'C:\\edb\\languagepack\\v1\\Python-3.7') # r'FilePath'------read"
   ]
  },
  {
   "cell_type": "code",
   "execution_count": null,
   "id": "f8bcdd9a-ea8e-4730-aa3f-6e34b9f96199",
   "metadata": {},
   "outputs": [],
   "source": [
    "# CREATE CONNECTION WITH DB\n",
    "import sqlite3\n",
    "conn= sqlite3.connect('yourDatabase.db')"
   ]
  },
  {
   "cell_type": "code",
   "execution_count": null,
   "id": "de73cebd-547e-468e-98a3-d701b2eca09e",
   "metadata": {},
   "outputs": [],
   "source": [
    "# CWD\n",
    "os.getcwd()"
   ]
  },
  {
   "cell_type": "code",
   "execution_count": null,
   "id": "fe7f29f8-d972-4335-93c3-5ba5956187b4",
   "metadata": {},
   "outputs": [],
   "source": [
    "# CHANGE DIRECTORY\n",
    "os.chdir(r'C:\\Users\\Shree\\Downloads\\data-20250709T061200Z-1-001')"
   ]
  },
  {
   "cell_type": "code",
   "execution_count": null,
   "id": "4ffbec2e-e4e4-4529-a1bf-ec0c2e376565",
   "metadata": {},
   "outputs": [],
   "source": [
    "# LIST OF FILES IN CWD\n",
    "os.listdir()"
   ]
  },
  {
   "cell_type": "code",
   "execution_count": null,
   "id": "8f11bd13-3c61-495f-aecd-910d77a587b1",
   "metadata": {},
   "outputs": [],
   "source": [
    "# DEFINING TABLES FOR ANALYSIS -*IMP*-\n",
    "\n",
    "tables=pd.read_sql_query(\"select name from sqlite_master where type='table'\",conn)\n",
    "print(tables)"
   ]
  },
  {
   "cell_type": "code",
   "execution_count": null,
   "id": "926d0cab-7712-4a5f-b652-7b5fb1ed95a3",
   "metadata": {},
   "outputs": [],
   "source": [
    "# CREATE FOLDER\n",
    "os.mkir('FolderName')\n",
    "\n",
    "# Folder in Folder\n",
    "os.mkirs('FolderName/ParentFolder/Childfolder')"
   ]
  },
  {
   "cell_type": "code",
   "execution_count": null,
   "id": "4ff042e7-10bc-4a35-be58-5b59c820272a",
   "metadata": {},
   "outputs": [],
   "source": [
    "#CREATE FILE\n",
    "with open(\"FileName\",'w') as file:\n",
    "    file.write(\"\")"
   ]
  },
  {
   "cell_type": "code",
   "execution_count": null,
   "id": "76533321-6d14-4a16-b8f5-d5328b747bb4",
   "metadata": {},
   "outputs": [],
   "source": [
    "with open('Report_Preparation.txt',\"w\") as file:\n",
    "    file.write(\"Procedure\")"
   ]
  },
  {
   "cell_type": "code",
   "execution_count": null,
   "id": "60a83d4c-f474-4ba7-b099-8ab251e9545c",
   "metadata": {},
   "outputs": [],
   "source": [
    "with open(\"TestFile.txt\",'w') as file:\n",
    "    file.write(\"General File\")"
   ]
  },
  {
   "cell_type": "code",
   "execution_count": null,
   "id": "acda5c96-c381-4829-9fb3-ee64de995a99",
   "metadata": {},
   "outputs": [],
   "source": [
    "#REMOVE EMPTY FOLDER\n",
    "os.remove('folderName')\n",
    "\n",
    "# Folder with Files\n",
    "import shutil\n",
    "shutil.rmtree('FolderName')\n",
    "\n",
    "\n",
    "# REPORT AFTER DELETE \n",
    "import shutil\n",
    "import os\n",
    "\n",
    "folder_path = 'parent_folder'\n",
    "\n",
    "if os.path.exists(folder_path):\n",
    "    shutil.rmtree(folder_path)\n",
    "    print(\"Folder deleted.\")\n",
    "else:\n",
    "    print(\"Folder not found.\")\n"
   ]
  },
  {
   "cell_type": "code",
   "execution_count": null,
   "id": "cd94f92c-44c0-44ce-bc57-7a2d88bb1028",
   "metadata": {},
   "outputs": [],
   "source": [
    "# REMOVE FILE\n",
    "os.remove('FileNme')"
   ]
  },
  {
   "cell_type": "code",
   "execution_count": null,
   "id": "8595651c-0d63-49f7-a9a5-6ee769ed6480",
   "metadata": {},
   "outputs": [],
   "source": [
    "# READ FILE csv\n",
    "file=pd.read_csv('sales.csv')\n",
    "\n",
    "print(file.head()) # Top 5 records"
   ]
  },
  {
   "cell_type": "code",
   "execution_count": null,
   "id": "f010f7a2-bfde-434e-bc76-c95d5ac6ec16",
   "metadata": {},
   "outputs": [],
   "source": [
    "# READ FILE txt\n",
    "with open('vendor_invoice.csv','r') as file:\n",
    "    content=file.read()\n",
    "    print(content)"
   ]
  },
  {
   "cell_type": "code",
   "execution_count": null,
   "id": "6fe815de-232d-4ffe-af9f-3d78381ac62d",
   "metadata": {},
   "outputs": [],
   "source": [
    "# SEE FILES IN FOLDER\n",
    "import os\n",
    "\n",
    "# List files in current directory\n",
    "files = os.listdir()\n",
    "\n",
    "# List files in a specific directory\n",
    "files = os.listdir('C:/Users/Shree/Documents')\n"
   ]
  },
  {
   "cell_type": "code",
   "execution_count": null,
   "id": "82244950-2ffd-4880-b537-50b4bcc63e8d",
   "metadata": {},
   "outputs": [],
   "source": [
    "# DELETE MULTIPLE FILES\n",
    "\n",
    "files_to_delete = [\"my_file2.csv\", \"TestFile.txt\"]\n",
    "\n",
    "for file in files_to_delete:\n",
    "    if os.path.exists(file):\n",
    "        os.remove(file)\n",
    "        print(f\"Deleted: {file}\")\n",
    "    else:\n",
    "        print(f\"Not found: {file}\")\n"
   ]
  },
  {
   "cell_type": "code",
   "execution_count": null,
   "id": "ba7e27d8-2a57-4dd9-9385-a6e3fc22fb31",
   "metadata": {},
   "outputs": [],
   "source": [
    "print(\"hi\")"
   ]
  },
  {
   "cell_type": "code",
   "execution_count": null,
   "id": "53685b78-2a0c-4541-ae7c-f05a9ce1d38c",
   "metadata": {},
   "outputs": [],
   "source": []
  },
  {
   "cell_type": "code",
   "execution_count": null,
   "id": "78c0f548-319d-4692-8c25-7ea029ff192d",
   "metadata": {},
   "outputs": [],
   "source": []
  }
 ],
 "metadata": {
  "kernelspec": {
   "display_name": "Python [conda env:base] *",
   "language": "python",
   "name": "conda-base-py"
  },
  "language_info": {
   "codemirror_mode": {
    "name": "ipython",
    "version": 3
   },
   "file_extension": ".py",
   "mimetype": "text/x-python",
   "name": "python",
   "nbconvert_exporter": "python",
   "pygments_lexer": "ipython3",
   "version": "3.13.5"
  }
 },
 "nbformat": 4,
 "nbformat_minor": 5
}
